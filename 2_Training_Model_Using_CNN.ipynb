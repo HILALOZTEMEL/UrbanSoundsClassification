{
  "cells": [
    {
      "cell_type": "code",
      "execution_count": null,
      "metadata": {
        "id": "Hn5eykyi3MqH",
        "colab": {
          "base_uri": "https://localhost:8080/"
        },
        "outputId": "2bcba2f8-6a1d-4eb6-c098-de8f8cdfc7cc"
      },
      "outputs": [
        {
          "output_type": "stream",
          "name": "stdout",
          "text": [
            "Drive already mounted at /gdrive; to attempt to forcibly remount, call drive.mount(\"/gdrive\", force_remount=True).\n",
            "/gdrive\n"
          ]
        }
      ],
      "source": [
        "#kimlik doğrulama işlemi :drive in içinde çalışma ortamı sağlarız serverlarda\n",
        "from google.colab import drive\n",
        "drive.mount('/gdrive')\n",
        "%cd /gdrive"
      ]
    },
    {
      "cell_type": "code",
      "execution_count": null,
      "metadata": {
        "id": "hZ1bQTly2AT0"
      },
      "outputs": [],
      "source": [
        "# LOADING THE SAVED NUMPY ARRAYS OF DATA AND TARGET\n",
        "\n",
        "import numpy as np\n",
        "X_train=np.load('./MyDrive/Urban_Sounds_Classification/X_train.npy')\n",
        "y_train=np.load('./MyDrive/Urban_Sounds_Classification/y_train.npy')\n",
        "X_val=np.load('./MyDrive/Urban_Sounds_Classification/X_val.npy')\n",
        "X_test=np.load('./MyDrive/Urban_Sounds_Classification/X_test.npy')\n",
        "y_val=np.load('./MyDrive/Urban_Sounds_Classification/y_val.npy')\n",
        "y_test=np.load('./MyDrive/Urban_Sounds_Classification/y_test.npy')"
      ]
    },
    {
      "cell_type": "code",
      "source": [
        "X_train.shape"
      ],
      "metadata": {
        "colab": {
          "base_uri": "https://localhost:8080/"
        },
        "id": "l-HOuLP_sXWR",
        "outputId": "da1df291-0b61-44f1-d095-806240a391ae"
      },
      "execution_count": null,
      "outputs": [
        {
          "output_type": "execute_result",
          "data": {
            "text/plain": [
              "(6987, 100, 100, 1)"
            ]
          },
          "metadata": {},
          "execution_count": 17
        }
      ]
    },
    {
      "cell_type": "code",
      "source": [
        "X_test[789]"
      ],
      "metadata": {
        "colab": {
          "base_uri": "https://localhost:8080/"
        },
        "id": "1KEpzh4ftSmV",
        "outputId": "966728d1-605e-498c-baff-78e918eaa9b3"
      },
      "execution_count": null,
      "outputs": [
        {
          "output_type": "execute_result",
          "data": {
            "text/plain": [
              "array([[[1.        ],\n",
              "        [0.00392157],\n",
              "        [0.00392157],\n",
              "        ...,\n",
              "        [0.00392157],\n",
              "        [0.00392157],\n",
              "        [0.00392157]],\n",
              "\n",
              "       [[1.        ],\n",
              "        [0.00392157],\n",
              "        [0.00392157],\n",
              "        ...,\n",
              "        [0.00392157],\n",
              "        [0.00392157],\n",
              "        [0.00392157]],\n",
              "\n",
              "       [[1.        ],\n",
              "        [0.00392157],\n",
              "        [0.00392157],\n",
              "        ...,\n",
              "        [0.00392157],\n",
              "        [0.00392157],\n",
              "        [0.00392157]],\n",
              "\n",
              "       ...,\n",
              "\n",
              "       [[1.        ],\n",
              "        [0.37254902],\n",
              "        [0.41176471],\n",
              "        ...,\n",
              "        [0.37647059],\n",
              "        [0.34117647],\n",
              "        [0.3254902 ]],\n",
              "\n",
              "       [[1.        ],\n",
              "        [0.22352941],\n",
              "        [0.02352941],\n",
              "        ...,\n",
              "        [0.2       ],\n",
              "        [0.12941176],\n",
              "        [0.20392157]],\n",
              "\n",
              "       [[1.        ],\n",
              "        [1.        ],\n",
              "        [1.        ],\n",
              "        ...,\n",
              "        [1.        ],\n",
              "        [1.        ],\n",
              "        [1.        ]]])"
            ]
          },
          "metadata": {},
          "execution_count": 20
        }
      ]
    },
    {
      "cell_type": "code",
      "execution_count": null,
      "metadata": {
        "id": "Wtd1arry3UJA"
      },
      "outputs": [],
      "source": [
        "# IMPORTING LAYERS, MODEL, AND CALLBACK FOR MODEL TRAINING \n",
        "\n",
        "from keras.models import Sequential\n",
        "from keras.layers import Dense,Flatten,Dropout,BatchNormalization,Activation\n",
        "from keras.layers import Conv2D,MaxPooling2D\n",
        "from keras.callbacks import ModelCheckpoint"
      ]
    },
    {
      "cell_type": "code",
      "execution_count": null,
      "metadata": {
        "id": "4lV3Q2NY3mXz"
      },
      "outputs": [],
      "source": [
        "# INITIALIZING THE MODEL\n",
        "\n",
        "model=Sequential()"
      ]
    },
    {
      "cell_type": "code",
      "execution_count": null,
      "metadata": {
        "id": "bZG7W6I-3q2A"
      },
      "outputs": [],
      "source": [
        "# ADDING LAYERS\n",
        "\n",
        "model.add(Conv2D(32,(3,3),input_shape=X_train.shape[1:]))\n",
        "model.add(Activation('relu'))\n",
        "model.add(BatchNormalization())\n",
        "model.add(MaxPooling2D(pool_size=(2,2)))\n",
        "#The first CNN layer followed by Relu and MaxPooling layers\n",
        "\n",
        "model.add(Conv2D(32,(3,3)))\n",
        "model.add(Activation('relu'))\n",
        "model.add(BatchNormalization())\n",
        "model.add(MaxPooling2D(pool_size=(2,2)))\n",
        "#The second convolution layer followed by Relu and MaxPooling layers\n",
        "\n",
        "\n",
        "model.add(Conv2D(32,(3,3)))\n",
        "model.add(Activation('relu'))\n",
        "model.add(BatchNormalization())\n",
        "model.add(MaxPooling2D(pool_size=(2,2)))\n",
        "#The third convolution layer followed by Relu and MaxPooling layers\n",
        "\n",
        "model.add(Conv2D(32,(3,3)))\n",
        "model.add(Activation('relu'))\n",
        "model.add(BatchNormalization())\n",
        "model.add(MaxPooling2D(pool_size=(2,2)))\n",
        "#The fourth convolution layer followed by Relu and MaxPooling layers\n",
        "\n",
        "model.add(Conv2D(32,(3,3)))\n",
        "model.add(Activation('relu'))\n",
        "model.add(BatchNormalization())\n",
        "model.add(MaxPooling2D(pool_size=(2,2)))\n",
        "#The fourth convolution layer followed by Relu and MaxPooling layers\n",
        "\n"
      ]
    },
    {
      "cell_type": "code",
      "execution_count": null,
      "metadata": {
        "id": "w3_f-ZBq39Nq"
      },
      "outputs": [],
      "source": [
        "# FLATTENING THE LAYER AND ADDING THE OUTPUT \n",
        "model.add(Flatten())\n",
        "model.add(Dropout(0.5))\n",
        "#Flatten layer to stack the output convolutions from second convolution layer\n",
        "model.add(Dense(64,activation='relu'))\n",
        "\n",
        "model.add(BatchNormalization())\n",
        "model.add(Dense(10,activation='softmax'))\n",
        "#The Final layer with two outputs for two categories"
      ]
    },
    {
      "cell_type": "code",
      "execution_count": null,
      "metadata": {
        "id": "7-iR5DTj4Ba4"
      },
      "outputs": [],
      "source": [
        "# COMPILING THE MODEL\n",
        "\n",
        "model.compile(loss='categorical_crossentropy',optimizer='adam',metrics=['accuracy'])"
      ]
    },
    {
      "cell_type": "code",
      "execution_count": null,
      "metadata": {
        "colab": {
          "base_uri": "https://localhost:8080/"
        },
        "id": "po_4SJD-4MKs",
        "outputId": "9bcd0864-742b-42b3-997f-b69af657d20c"
      },
      "outputs": [
        {
          "output_type": "stream",
          "name": "stdout",
          "text": [
            "Epoch 1/200\n",
            "219/219 [==============================] - 9s 16ms/step - loss: 1.9369 - accuracy: 0.3230 - val_loss: 2.7773 - val_accuracy: 0.1615\n",
            "Epoch 2/200\n",
            "219/219 [==============================] - 3s 14ms/step - loss: 1.4639 - accuracy: 0.4753 - val_loss: 2.4467 - val_accuracy: 0.1913\n",
            "Epoch 3/200\n",
            "219/219 [==============================] - 3s 14ms/step - loss: 1.2463 - accuracy: 0.5467 - val_loss: 1.2040 - val_accuracy: 0.5739\n",
            "Epoch 4/200\n",
            "219/219 [==============================] - 3s 14ms/step - loss: 1.1137 - accuracy: 0.6003 - val_loss: 1.0706 - val_accuracy: 0.6220\n",
            "Epoch 5/200\n",
            "219/219 [==============================] - 3s 14ms/step - loss: 1.0055 - accuracy: 0.6456 - val_loss: 1.1036 - val_accuracy: 0.6105\n",
            "Epoch 6/200\n",
            "219/219 [==============================] - 3s 14ms/step - loss: 0.9280 - accuracy: 0.6800 - val_loss: 0.7784 - val_accuracy: 0.7377\n",
            "Epoch 7/200\n",
            "219/219 [==============================] - 3s 14ms/step - loss: 0.8537 - accuracy: 0.6999 - val_loss: 0.8333 - val_accuracy: 0.6953\n",
            "Epoch 8/200\n",
            "219/219 [==============================] - 3s 14ms/step - loss: 0.8055 - accuracy: 0.7219 - val_loss: 0.7070 - val_accuracy: 0.7514\n",
            "Epoch 9/200\n",
            "219/219 [==============================] - 3s 15ms/step - loss: 0.7367 - accuracy: 0.7471 - val_loss: 0.6669 - val_accuracy: 0.7640\n",
            "Epoch 10/200\n",
            "219/219 [==============================] - 3s 15ms/step - loss: 0.6914 - accuracy: 0.7648 - val_loss: 0.6107 - val_accuracy: 0.8064\n",
            "Epoch 11/200\n",
            "219/219 [==============================] - 3s 14ms/step - loss: 0.6751 - accuracy: 0.7727 - val_loss: 1.0797 - val_accuracy: 0.6770\n",
            "Epoch 12/200\n",
            "219/219 [==============================] - 3s 14ms/step - loss: 0.6130 - accuracy: 0.7999 - val_loss: 0.8660 - val_accuracy: 0.7274\n",
            "Epoch 13/200\n",
            "219/219 [==============================] - 3s 14ms/step - loss: 0.5875 - accuracy: 0.8111 - val_loss: 0.6754 - val_accuracy: 0.7560\n",
            "Epoch 14/200\n",
            "219/219 [==============================] - 3s 15ms/step - loss: 0.5801 - accuracy: 0.8065 - val_loss: 1.2266 - val_accuracy: 0.5979\n",
            "Epoch 15/200\n",
            "219/219 [==============================] - 3s 14ms/step - loss: 0.5286 - accuracy: 0.8298 - val_loss: 0.5936 - val_accuracy: 0.8110\n",
            "Epoch 16/200\n",
            "219/219 [==============================] - 3s 14ms/step - loss: 0.5111 - accuracy: 0.8307 - val_loss: 0.6821 - val_accuracy: 0.7606\n",
            "Epoch 17/200\n",
            "219/219 [==============================] - 3s 14ms/step - loss: 0.4823 - accuracy: 0.8414 - val_loss: 0.5873 - val_accuracy: 0.8121\n",
            "Epoch 18/200\n",
            "219/219 [==============================] - 3s 14ms/step - loss: 0.4617 - accuracy: 0.8486 - val_loss: 0.7446 - val_accuracy: 0.7778\n",
            "Epoch 19/200\n",
            "219/219 [==============================] - 3s 14ms/step - loss: 0.4443 - accuracy: 0.8516 - val_loss: 0.6237 - val_accuracy: 0.8064\n",
            "Epoch 20/200\n",
            "219/219 [==============================] - 3s 15ms/step - loss: 0.4192 - accuracy: 0.8623 - val_loss: 0.5708 - val_accuracy: 0.8121\n",
            "Epoch 21/200\n",
            "219/219 [==============================] - 3s 16ms/step - loss: 0.4075 - accuracy: 0.8663 - val_loss: 0.6624 - val_accuracy: 0.7984\n",
            "Epoch 22/200\n",
            "219/219 [==============================] - 3s 14ms/step - loss: 0.3983 - accuracy: 0.8672 - val_loss: 0.4545 - val_accuracy: 0.8465\n",
            "Epoch 23/200\n",
            "219/219 [==============================] - 3s 15ms/step - loss: 0.3673 - accuracy: 0.8776 - val_loss: 0.7313 - val_accuracy: 0.7938\n",
            "Epoch 24/200\n",
            "219/219 [==============================] - 3s 14ms/step - loss: 0.3638 - accuracy: 0.8796 - val_loss: 0.8525 - val_accuracy: 0.7251\n",
            "Epoch 25/200\n",
            "219/219 [==============================] - 3s 14ms/step - loss: 0.3446 - accuracy: 0.8855 - val_loss: 0.8354 - val_accuracy: 0.7812\n",
            "Epoch 26/200\n",
            "219/219 [==============================] - 3s 14ms/step - loss: 0.3147 - accuracy: 0.8962 - val_loss: 0.5752 - val_accuracy: 0.8225\n",
            "Epoch 27/200\n",
            "219/219 [==============================] - 3s 15ms/step - loss: 0.3097 - accuracy: 0.8970 - val_loss: 0.6473 - val_accuracy: 0.8076\n",
            "Epoch 28/200\n",
            "219/219 [==============================] - 3s 15ms/step - loss: 0.2931 - accuracy: 0.8994 - val_loss: 0.6883 - val_accuracy: 0.7995\n",
            "Epoch 29/200\n",
            "219/219 [==============================] - 3s 14ms/step - loss: 0.2994 - accuracy: 0.8962 - val_loss: 0.6763 - val_accuracy: 0.7881\n",
            "Epoch 30/200\n",
            "219/219 [==============================] - 3s 14ms/step - loss: 0.2850 - accuracy: 0.9034 - val_loss: 0.5870 - val_accuracy: 0.8190\n",
            "Epoch 31/200\n",
            "219/219 [==============================] - 3s 15ms/step - loss: 0.2557 - accuracy: 0.9171 - val_loss: 0.6246 - val_accuracy: 0.8099\n",
            "Epoch 32/200\n",
            "219/219 [==============================] - 3s 14ms/step - loss: 0.2684 - accuracy: 0.9085 - val_loss: 0.5861 - val_accuracy: 0.8373\n",
            "Epoch 33/200\n",
            "219/219 [==============================] - 3s 14ms/step - loss: 0.2356 - accuracy: 0.9221 - val_loss: 0.6201 - val_accuracy: 0.8144\n",
            "Epoch 34/200\n",
            "219/219 [==============================] - 3s 15ms/step - loss: 0.2673 - accuracy: 0.9118 - val_loss: 0.6684 - val_accuracy: 0.8053\n",
            "Epoch 35/200\n",
            "219/219 [==============================] - 3s 15ms/step - loss: 0.2457 - accuracy: 0.9136 - val_loss: 0.6796 - val_accuracy: 0.8053\n",
            "Epoch 36/200\n",
            "219/219 [==============================] - 3s 14ms/step - loss: 0.2341 - accuracy: 0.9180 - val_loss: 0.7416 - val_accuracy: 0.7892\n",
            "Epoch 37/200\n",
            "219/219 [==============================] - 3s 14ms/step - loss: 0.2391 - accuracy: 0.9201 - val_loss: 0.6526 - val_accuracy: 0.8144\n",
            "Epoch 38/200\n",
            "219/219 [==============================] - 3s 14ms/step - loss: 0.2316 - accuracy: 0.9213 - val_loss: 0.6141 - val_accuracy: 0.8282\n",
            "Epoch 39/200\n",
            "219/219 [==============================] - 3s 14ms/step - loss: 0.2387 - accuracy: 0.9191 - val_loss: 0.5899 - val_accuracy: 0.8259\n",
            "Epoch 40/200\n",
            "219/219 [==============================] - 3s 15ms/step - loss: 0.1898 - accuracy: 0.9365 - val_loss: 0.7226 - val_accuracy: 0.8167\n",
            "Epoch 41/200\n",
            "219/219 [==============================] - 3s 15ms/step - loss: 0.2050 - accuracy: 0.9260 - val_loss: 0.5192 - val_accuracy: 0.8614\n",
            "Epoch 42/200\n",
            "219/219 [==============================] - 3s 15ms/step - loss: 0.2200 - accuracy: 0.9260 - val_loss: 0.9139 - val_accuracy: 0.7721\n",
            "Epoch 43/200\n",
            "219/219 [==============================] - 3s 14ms/step - loss: 0.1908 - accuracy: 0.9330 - val_loss: 0.9943 - val_accuracy: 0.7491\n",
            "Epoch 44/200\n",
            "219/219 [==============================] - 3s 15ms/step - loss: 0.2046 - accuracy: 0.9296 - val_loss: 0.8770 - val_accuracy: 0.7835\n",
            "Epoch 45/200\n",
            "219/219 [==============================] - 3s 14ms/step - loss: 0.1912 - accuracy: 0.9373 - val_loss: 0.5339 - val_accuracy: 0.8511\n",
            "Epoch 46/200\n",
            "219/219 [==============================] - 3s 14ms/step - loss: 0.1888 - accuracy: 0.9356 - val_loss: 0.5372 - val_accuracy: 0.8431\n",
            "Epoch 47/200\n",
            "219/219 [==============================] - 3s 14ms/step - loss: 0.1840 - accuracy: 0.9393 - val_loss: 0.7031 - val_accuracy: 0.8179\n",
            "Epoch 48/200\n",
            "219/219 [==============================] - 3s 14ms/step - loss: 0.1721 - accuracy: 0.9407 - val_loss: 0.8013 - val_accuracy: 0.8030\n",
            "Epoch 49/200\n",
            "219/219 [==============================] - 3s 15ms/step - loss: 0.1788 - accuracy: 0.9390 - val_loss: 0.7971 - val_accuracy: 0.7869\n",
            "Epoch 50/200\n",
            "219/219 [==============================] - 3s 14ms/step - loss: 0.1680 - accuracy: 0.9400 - val_loss: 0.6198 - val_accuracy: 0.8545\n",
            "Epoch 51/200\n",
            "219/219 [==============================] - 3s 14ms/step - loss: 0.1775 - accuracy: 0.9396 - val_loss: 0.5451 - val_accuracy: 0.8603\n",
            "Epoch 52/200\n",
            "219/219 [==============================] - 3s 14ms/step - loss: 0.1556 - accuracy: 0.9490 - val_loss: 0.5746 - val_accuracy: 0.8373\n",
            "Epoch 53/200\n",
            "219/219 [==============================] - 3s 15ms/step - loss: 0.1397 - accuracy: 0.9512 - val_loss: 1.1398 - val_accuracy: 0.7457\n",
            "Epoch 54/200\n",
            "219/219 [==============================] - 3s 15ms/step - loss: 0.1647 - accuracy: 0.9473 - val_loss: 0.6954 - val_accuracy: 0.8259\n",
            "Epoch 55/200\n",
            "219/219 [==============================] - 3s 14ms/step - loss: 0.1525 - accuracy: 0.9489 - val_loss: 0.7208 - val_accuracy: 0.8179\n",
            "Epoch 56/200\n",
            "219/219 [==============================] - 3s 14ms/step - loss: 0.1805 - accuracy: 0.9430 - val_loss: 0.6076 - val_accuracy: 0.8419\n",
            "Epoch 57/200\n",
            "219/219 [==============================] - 3s 14ms/step - loss: 0.1585 - accuracy: 0.9473 - val_loss: 0.8817 - val_accuracy: 0.7892\n",
            "Epoch 58/200\n",
            "219/219 [==============================] - 3s 15ms/step - loss: 0.1556 - accuracy: 0.9473 - val_loss: 0.7191 - val_accuracy: 0.8202\n",
            "Epoch 59/200\n",
            "219/219 [==============================] - 3s 14ms/step - loss: 0.1400 - accuracy: 0.9502 - val_loss: 0.5293 - val_accuracy: 0.8568\n",
            "Epoch 60/200\n",
            "219/219 [==============================] - 3s 14ms/step - loss: 0.1620 - accuracy: 0.9439 - val_loss: 0.7195 - val_accuracy: 0.8179\n",
            "Epoch 61/200\n",
            "219/219 [==============================] - 3s 14ms/step - loss: 0.1193 - accuracy: 0.9599 - val_loss: 0.8922 - val_accuracy: 0.8007\n",
            "Epoch 62/200\n",
            "219/219 [==============================] - 3s 14ms/step - loss: 0.1320 - accuracy: 0.9548 - val_loss: 0.6581 - val_accuracy: 0.8419\n",
            "Epoch 63/200\n",
            "219/219 [==============================] - 3s 15ms/step - loss: 0.1392 - accuracy: 0.9535 - val_loss: 0.6219 - val_accuracy: 0.8442\n",
            "Epoch 64/200\n",
            "219/219 [==============================] - 3s 14ms/step - loss: 0.1363 - accuracy: 0.9551 - val_loss: 0.7681 - val_accuracy: 0.8030\n",
            "Epoch 65/200\n",
            "219/219 [==============================] - 3s 14ms/step - loss: 0.1353 - accuracy: 0.9555 - val_loss: 0.8641 - val_accuracy: 0.7812\n",
            "Epoch 66/200\n",
            "219/219 [==============================] - 3s 14ms/step - loss: 0.1267 - accuracy: 0.9556 - val_loss: 0.6088 - val_accuracy: 0.8442\n",
            "Epoch 67/200\n",
            "219/219 [==============================] - 3s 14ms/step - loss: 0.1821 - accuracy: 0.9407 - val_loss: 0.6910 - val_accuracy: 0.8385\n",
            "Epoch 68/200\n",
            "219/219 [==============================] - 3s 14ms/step - loss: 0.1261 - accuracy: 0.9582 - val_loss: 0.7192 - val_accuracy: 0.8351\n",
            "Epoch 69/200\n",
            "219/219 [==============================] - 3s 15ms/step - loss: 0.1241 - accuracy: 0.9585 - val_loss: 0.7517 - val_accuracy: 0.8305\n",
            "Epoch 70/200\n",
            "219/219 [==============================] - 3s 14ms/step - loss: 0.1064 - accuracy: 0.9641 - val_loss: 0.7263 - val_accuracy: 0.8190\n",
            "Epoch 71/200\n",
            "219/219 [==============================] - 3s 14ms/step - loss: 0.1282 - accuracy: 0.9578 - val_loss: 0.7973 - val_accuracy: 0.8236\n",
            "Epoch 72/200\n",
            "219/219 [==============================] - 3s 14ms/step - loss: 0.1186 - accuracy: 0.9588 - val_loss: 1.1663 - val_accuracy: 0.7537\n",
            "Epoch 73/200\n",
            "219/219 [==============================] - 3s 14ms/step - loss: 0.1305 - accuracy: 0.9573 - val_loss: 0.5836 - val_accuracy: 0.8603\n",
            "Epoch 74/200\n",
            "219/219 [==============================] - 3s 14ms/step - loss: 0.1100 - accuracy: 0.9605 - val_loss: 0.5935 - val_accuracy: 0.8557\n",
            "Epoch 75/200\n",
            "219/219 [==============================] - 3s 14ms/step - loss: 0.1223 - accuracy: 0.9579 - val_loss: 1.6160 - val_accuracy: 0.6942\n",
            "Epoch 76/200\n",
            "219/219 [==============================] - 3s 14ms/step - loss: 0.1181 - accuracy: 0.9594 - val_loss: 0.6454 - val_accuracy: 0.8488\n",
            "Epoch 77/200\n",
            "219/219 [==============================] - 3s 14ms/step - loss: 0.1038 - accuracy: 0.9655 - val_loss: 0.6356 - val_accuracy: 0.8511\n",
            "Epoch 78/200\n",
            "219/219 [==============================] - 3s 14ms/step - loss: 0.0974 - accuracy: 0.9659 - val_loss: 0.6071 - val_accuracy: 0.8557\n",
            "Epoch 79/200\n",
            "219/219 [==============================] - 3s 14ms/step - loss: 0.1030 - accuracy: 0.9652 - val_loss: 0.7510 - val_accuracy: 0.8305\n",
            "Epoch 80/200\n",
            "219/219 [==============================] - 3s 14ms/step - loss: 0.1202 - accuracy: 0.9592 - val_loss: 0.8372 - val_accuracy: 0.8259\n",
            "Epoch 81/200\n",
            "219/219 [==============================] - 3s 14ms/step - loss: 0.1357 - accuracy: 0.9526 - val_loss: 0.7181 - val_accuracy: 0.8431\n",
            "Epoch 82/200\n",
            "219/219 [==============================] - 3s 15ms/step - loss: 0.1091 - accuracy: 0.9635 - val_loss: 0.5962 - val_accuracy: 0.8522\n",
            "Epoch 83/200\n",
            "219/219 [==============================] - 3s 15ms/step - loss: 0.0942 - accuracy: 0.9679 - val_loss: 0.6667 - val_accuracy: 0.8419\n",
            "Epoch 84/200\n",
            "219/219 [==============================] - 3s 14ms/step - loss: 0.1064 - accuracy: 0.9626 - val_loss: 0.8880 - val_accuracy: 0.8133\n",
            "Epoch 85/200\n",
            "219/219 [==============================] - 3s 15ms/step - loss: 0.1132 - accuracy: 0.9639 - val_loss: 0.9455 - val_accuracy: 0.7984\n",
            "Epoch 86/200\n",
            "219/219 [==============================] - 3s 15ms/step - loss: 0.1121 - accuracy: 0.9586 - val_loss: 0.6095 - val_accuracy: 0.8488\n",
            "Epoch 87/200\n",
            "219/219 [==============================] - 3s 14ms/step - loss: 0.1217 - accuracy: 0.9609 - val_loss: 0.8362 - val_accuracy: 0.8144\n",
            "Epoch 88/200\n",
            "219/219 [==============================] - 3s 15ms/step - loss: 0.0902 - accuracy: 0.9698 - val_loss: 0.6802 - val_accuracy: 0.8431\n",
            "Epoch 89/200\n",
            "219/219 [==============================] - 3s 14ms/step - loss: 0.0986 - accuracy: 0.9649 - val_loss: 0.9079 - val_accuracy: 0.8064\n",
            "Epoch 90/200\n",
            "219/219 [==============================] - 3s 14ms/step - loss: 0.1152 - accuracy: 0.9602 - val_loss: 0.5688 - val_accuracy: 0.8591\n",
            "Epoch 91/200\n",
            "219/219 [==============================] - 3s 15ms/step - loss: 0.0948 - accuracy: 0.9657 - val_loss: 0.6498 - val_accuracy: 0.8545\n",
            "Epoch 92/200\n",
            "219/219 [==============================] - 3s 14ms/step - loss: 0.0945 - accuracy: 0.9691 - val_loss: 0.7177 - val_accuracy: 0.8499\n",
            "Epoch 93/200\n",
            "219/219 [==============================] - 3s 14ms/step - loss: 0.1047 - accuracy: 0.9634 - val_loss: 0.9817 - val_accuracy: 0.7869\n",
            "Epoch 94/200\n",
            "219/219 [==============================] - 3s 15ms/step - loss: 0.0959 - accuracy: 0.9679 - val_loss: 0.8457 - val_accuracy: 0.8225\n",
            "Epoch 95/200\n",
            "219/219 [==============================] - 3s 14ms/step - loss: 0.0974 - accuracy: 0.9662 - val_loss: 1.2480 - val_accuracy: 0.7572\n",
            "Epoch 96/200\n",
            "219/219 [==============================] - 3s 14ms/step - loss: 0.0952 - accuracy: 0.9661 - val_loss: 0.6114 - val_accuracy: 0.8683\n",
            "Epoch 97/200\n",
            "219/219 [==============================] - 3s 14ms/step - loss: 0.0836 - accuracy: 0.9721 - val_loss: 0.7249 - val_accuracy: 0.8568\n",
            "Epoch 98/200\n",
            "219/219 [==============================] - 3s 14ms/step - loss: 0.0849 - accuracy: 0.9699 - val_loss: 0.7544 - val_accuracy: 0.8373\n",
            "Epoch 99/200\n",
            "219/219 [==============================] - 3s 15ms/step - loss: 0.0933 - accuracy: 0.9708 - val_loss: 0.8137 - val_accuracy: 0.8156\n",
            "Epoch 100/200\n",
            "219/219 [==============================] - 3s 14ms/step - loss: 0.0886 - accuracy: 0.9722 - val_loss: 0.8550 - val_accuracy: 0.8156\n",
            "Epoch 101/200\n",
            "219/219 [==============================] - 3s 15ms/step - loss: 0.0984 - accuracy: 0.9655 - val_loss: 1.0851 - val_accuracy: 0.7743\n",
            "Epoch 102/200\n",
            "219/219 [==============================] - 3s 15ms/step - loss: 0.0858 - accuracy: 0.9685 - val_loss: 0.7529 - val_accuracy: 0.8442\n",
            "Epoch 103/200\n",
            "219/219 [==============================] - 3s 14ms/step - loss: 0.0961 - accuracy: 0.9687 - val_loss: 0.9361 - val_accuracy: 0.7892\n",
            "Epoch 104/200\n",
            "219/219 [==============================] - 3s 14ms/step - loss: 0.0895 - accuracy: 0.9705 - val_loss: 0.8104 - val_accuracy: 0.8270\n",
            "Epoch 105/200\n",
            "219/219 [==============================] - 3s 14ms/step - loss: 0.0980 - accuracy: 0.9681 - val_loss: 0.6783 - val_accuracy: 0.8557\n",
            "Epoch 106/200\n",
            "219/219 [==============================] - 3s 14ms/step - loss: 0.0873 - accuracy: 0.9694 - val_loss: 1.1286 - val_accuracy: 0.7686\n",
            "Epoch 107/200\n",
            "219/219 [==============================] - 3s 15ms/step - loss: 0.0990 - accuracy: 0.9659 - val_loss: 0.6391 - val_accuracy: 0.8614\n",
            "Epoch 108/200\n",
            "219/219 [==============================] - 3s 14ms/step - loss: 0.0827 - accuracy: 0.9717 - val_loss: 0.5795 - val_accuracy: 0.8603\n",
            "Epoch 109/200\n",
            "219/219 [==============================] - 3s 15ms/step - loss: 0.0938 - accuracy: 0.9701 - val_loss: 1.1656 - val_accuracy: 0.7847\n",
            "Epoch 110/200\n",
            "219/219 [==============================] - 3s 15ms/step - loss: 0.0822 - accuracy: 0.9699 - val_loss: 0.7208 - val_accuracy: 0.8534\n",
            "Epoch 111/200\n",
            "219/219 [==============================] - 3s 14ms/step - loss: 0.0788 - accuracy: 0.9728 - val_loss: 0.6325 - val_accuracy: 0.8522\n",
            "Epoch 112/200\n",
            "219/219 [==============================] - 3s 14ms/step - loss: 0.0848 - accuracy: 0.9699 - val_loss: 1.0975 - val_accuracy: 0.7881\n",
            "Epoch 113/200\n",
            "219/219 [==============================] - 3s 15ms/step - loss: 0.1003 - accuracy: 0.9664 - val_loss: 0.7103 - val_accuracy: 0.8511\n",
            "Epoch 114/200\n",
            "219/219 [==============================] - 3s 15ms/step - loss: 0.0732 - accuracy: 0.9770 - val_loss: 0.7817 - val_accuracy: 0.8133\n",
            "Epoch 115/200\n",
            "219/219 [==============================] - 3s 14ms/step - loss: 0.0919 - accuracy: 0.9701 - val_loss: 0.7616 - val_accuracy: 0.8362\n",
            "Epoch 116/200\n",
            "219/219 [==============================] - 3s 14ms/step - loss: 0.0920 - accuracy: 0.9691 - val_loss: 0.8956 - val_accuracy: 0.8099\n",
            "Epoch 117/200\n",
            "219/219 [==============================] - 3s 14ms/step - loss: 0.0768 - accuracy: 0.9740 - val_loss: 0.8824 - val_accuracy: 0.8362\n",
            "Epoch 118/200\n",
            "219/219 [==============================] - 3s 14ms/step - loss: 0.0715 - accuracy: 0.9764 - val_loss: 0.7557 - val_accuracy: 0.8293\n",
            "Epoch 119/200\n",
            "219/219 [==============================] - 3s 14ms/step - loss: 0.0930 - accuracy: 0.9704 - val_loss: 0.6919 - val_accuracy: 0.8488\n",
            "Epoch 120/200\n",
            "219/219 [==============================] - 3s 14ms/step - loss: 0.0874 - accuracy: 0.9709 - val_loss: 0.7132 - val_accuracy: 0.8465\n",
            "Epoch 121/200\n",
            "219/219 [==============================] - 3s 14ms/step - loss: 0.0833 - accuracy: 0.9729 - val_loss: 0.8473 - val_accuracy: 0.8202\n",
            "Epoch 122/200\n",
            "219/219 [==============================] - 3s 15ms/step - loss: 0.0884 - accuracy: 0.9722 - val_loss: 0.7048 - val_accuracy: 0.8511\n",
            "Epoch 123/200\n",
            "219/219 [==============================] - 3s 14ms/step - loss: 0.0872 - accuracy: 0.9719 - val_loss: 0.7255 - val_accuracy: 0.8408\n",
            "Epoch 124/200\n",
            "219/219 [==============================] - 3s 14ms/step - loss: 0.0892 - accuracy: 0.9714 - val_loss: 0.6435 - val_accuracy: 0.8580\n",
            "Epoch 125/200\n",
            "219/219 [==============================] - 3s 14ms/step - loss: 0.0663 - accuracy: 0.9778 - val_loss: 0.8897 - val_accuracy: 0.8167\n",
            "Epoch 126/200\n",
            "219/219 [==============================] - 3s 14ms/step - loss: 0.1078 - accuracy: 0.9659 - val_loss: 0.7080 - val_accuracy: 0.8442\n",
            "Epoch 127/200\n",
            "219/219 [==============================] - 3s 15ms/step - loss: 0.0742 - accuracy: 0.9734 - val_loss: 0.7821 - val_accuracy: 0.8442\n",
            "Epoch 128/200\n",
            "219/219 [==============================] - 3s 14ms/step - loss: 0.0754 - accuracy: 0.9750 - val_loss: 0.8534 - val_accuracy: 0.8167\n",
            "Epoch 129/200\n",
            "219/219 [==============================] - 3s 15ms/step - loss: 0.0737 - accuracy: 0.9742 - val_loss: 0.6982 - val_accuracy: 0.8522\n",
            "Epoch 130/200\n",
            "219/219 [==============================] - 3s 14ms/step - loss: 0.0683 - accuracy: 0.9768 - val_loss: 0.7089 - val_accuracy: 0.8465\n",
            "Epoch 131/200\n",
            "219/219 [==============================] - 3s 15ms/step - loss: 0.0762 - accuracy: 0.9731 - val_loss: 0.7959 - val_accuracy: 0.8408\n",
            "Epoch 132/200\n",
            "219/219 [==============================] - 3s 14ms/step - loss: 0.0818 - accuracy: 0.9715 - val_loss: 0.6879 - val_accuracy: 0.8603\n",
            "Epoch 133/200\n",
            "219/219 [==============================] - 3s 14ms/step - loss: 0.0662 - accuracy: 0.9771 - val_loss: 0.8723 - val_accuracy: 0.8179\n",
            "Epoch 134/200\n",
            "219/219 [==============================] - 3s 14ms/step - loss: 0.0803 - accuracy: 0.9731 - val_loss: 0.8240 - val_accuracy: 0.8328\n",
            "Epoch 135/200\n",
            "219/219 [==============================] - 3s 15ms/step - loss: 0.0779 - accuracy: 0.9729 - val_loss: 0.7756 - val_accuracy: 0.8396\n",
            "Epoch 136/200\n",
            "219/219 [==============================] - 3s 14ms/step - loss: 0.0804 - accuracy: 0.9732 - val_loss: 0.7759 - val_accuracy: 0.8488\n",
            "Epoch 137/200\n",
            "219/219 [==============================] - 3s 14ms/step - loss: 0.0720 - accuracy: 0.9772 - val_loss: 0.6148 - val_accuracy: 0.8637\n",
            "Epoch 138/200\n",
            "219/219 [==============================] - 3s 14ms/step - loss: 0.0633 - accuracy: 0.9777 - val_loss: 0.6635 - val_accuracy: 0.8477\n",
            "Epoch 139/200\n",
            "219/219 [==============================] - 3s 15ms/step - loss: 0.0610 - accuracy: 0.9797 - val_loss: 0.7113 - val_accuracy: 0.8465\n",
            "Epoch 140/200\n",
            "219/219 [==============================] - 3s 15ms/step - loss: 0.0689 - accuracy: 0.9790 - val_loss: 0.6303 - val_accuracy: 0.8511\n",
            "Epoch 141/200\n",
            "219/219 [==============================] - 3s 15ms/step - loss: 0.0777 - accuracy: 0.9741 - val_loss: 0.7206 - val_accuracy: 0.8454\n",
            "Epoch 142/200\n",
            "219/219 [==============================] - 3s 15ms/step - loss: 0.0689 - accuracy: 0.9774 - val_loss: 0.7668 - val_accuracy: 0.8351\n",
            "Epoch 143/200\n",
            "219/219 [==============================] - 3s 14ms/step - loss: 0.0714 - accuracy: 0.9757 - val_loss: 0.5886 - val_accuracy: 0.8706\n",
            "Epoch 144/200\n",
            "219/219 [==============================] - 3s 14ms/step - loss: 0.0527 - accuracy: 0.9813 - val_loss: 1.3732 - val_accuracy: 0.7572\n",
            "Epoch 145/200\n",
            "219/219 [==============================] - 3s 14ms/step - loss: 0.0732 - accuracy: 0.9747 - val_loss: 0.7437 - val_accuracy: 0.8442\n",
            "Epoch 146/200\n",
            "219/219 [==============================] - 3s 14ms/step - loss: 0.0735 - accuracy: 0.9755 - val_loss: 0.7870 - val_accuracy: 0.8362\n",
            "Epoch 147/200\n",
            "219/219 [==============================] - 3s 14ms/step - loss: 0.0765 - accuracy: 0.9750 - val_loss: 0.7908 - val_accuracy: 0.8339\n",
            "Epoch 148/200\n",
            "219/219 [==============================] - 3s 14ms/step - loss: 0.0682 - accuracy: 0.9772 - val_loss: 1.0633 - val_accuracy: 0.7995\n",
            "Epoch 149/200\n",
            "219/219 [==============================] - 3s 14ms/step - loss: 0.0616 - accuracy: 0.9788 - val_loss: 0.7067 - val_accuracy: 0.8603\n",
            "Epoch 150/200\n",
            "219/219 [==============================] - 3s 14ms/step - loss: 0.0635 - accuracy: 0.9758 - val_loss: 0.7431 - val_accuracy: 0.8534\n",
            "Epoch 151/200\n",
            "219/219 [==============================] - 3s 14ms/step - loss: 0.0695 - accuracy: 0.9765 - val_loss: 0.9053 - val_accuracy: 0.8408\n",
            "Epoch 152/200\n",
            "219/219 [==============================] - 3s 14ms/step - loss: 0.0834 - accuracy: 0.9750 - val_loss: 0.6940 - val_accuracy: 0.8637\n",
            "Epoch 153/200\n",
            "219/219 [==============================] - 3s 15ms/step - loss: 0.0686 - accuracy: 0.9760 - val_loss: 0.6722 - val_accuracy: 0.8580\n",
            "Epoch 154/200\n",
            "219/219 [==============================] - 3s 14ms/step - loss: 0.0557 - accuracy: 0.9823 - val_loss: 0.8131 - val_accuracy: 0.8419\n",
            "Epoch 155/200\n",
            "219/219 [==============================] - 3s 14ms/step - loss: 0.0718 - accuracy: 0.9750 - val_loss: 0.6795 - val_accuracy: 0.8625\n",
            "Epoch 156/200\n",
            "219/219 [==============================] - 3s 14ms/step - loss: 0.0671 - accuracy: 0.9781 - val_loss: 0.7424 - val_accuracy: 0.8396\n",
            "Epoch 157/200\n",
            "219/219 [==============================] - 3s 15ms/step - loss: 0.0604 - accuracy: 0.9808 - val_loss: 0.8679 - val_accuracy: 0.8362\n",
            "Epoch 158/200\n",
            "219/219 [==============================] - 3s 14ms/step - loss: 0.1036 - accuracy: 0.9658 - val_loss: 0.9274 - val_accuracy: 0.8144\n",
            "Epoch 159/200\n",
            "219/219 [==============================] - 3s 14ms/step - loss: 0.0730 - accuracy: 0.9747 - val_loss: 0.6465 - val_accuracy: 0.8694\n",
            "Epoch 160/200\n",
            "219/219 [==============================] - 3s 14ms/step - loss: 0.0625 - accuracy: 0.9785 - val_loss: 0.7084 - val_accuracy: 0.8580\n",
            "Epoch 161/200\n",
            "219/219 [==============================] - 3s 14ms/step - loss: 0.0700 - accuracy: 0.9751 - val_loss: 0.5980 - val_accuracy: 0.8729\n",
            "Epoch 162/200\n",
            "219/219 [==============================] - 3s 14ms/step - loss: 0.0615 - accuracy: 0.9810 - val_loss: 0.6383 - val_accuracy: 0.8580\n",
            "Epoch 163/200\n",
            "219/219 [==============================] - 3s 15ms/step - loss: 0.0701 - accuracy: 0.9765 - val_loss: 0.9097 - val_accuracy: 0.8213\n",
            "Epoch 164/200\n",
            "219/219 [==============================] - 3s 14ms/step - loss: 0.0596 - accuracy: 0.9785 - val_loss: 0.7463 - val_accuracy: 0.8591\n",
            "Epoch 165/200\n",
            "219/219 [==============================] - 3s 15ms/step - loss: 0.0567 - accuracy: 0.9800 - val_loss: 0.7825 - val_accuracy: 0.8419\n",
            "Epoch 166/200\n",
            "219/219 [==============================] - 3s 15ms/step - loss: 0.0548 - accuracy: 0.9817 - val_loss: 0.9454 - val_accuracy: 0.8156\n",
            "Epoch 167/200\n",
            "219/219 [==============================] - 3s 14ms/step - loss: 0.0700 - accuracy: 0.9765 - val_loss: 0.6553 - val_accuracy: 0.8683\n",
            "Epoch 168/200\n",
            "219/219 [==============================] - 3s 14ms/step - loss: 0.0525 - accuracy: 0.9840 - val_loss: 0.6452 - val_accuracy: 0.8603\n",
            "Epoch 169/200\n",
            "219/219 [==============================] - 3s 15ms/step - loss: 0.0685 - accuracy: 0.9781 - val_loss: 1.2234 - val_accuracy: 0.7721\n",
            "Epoch 170/200\n",
            "219/219 [==============================] - 3s 14ms/step - loss: 0.0603 - accuracy: 0.9805 - val_loss: 0.6924 - val_accuracy: 0.8557\n",
            "Epoch 171/200\n",
            "219/219 [==============================] - 3s 14ms/step - loss: 0.0666 - accuracy: 0.9774 - val_loss: 0.8795 - val_accuracy: 0.8236\n",
            "Epoch 172/200\n",
            "219/219 [==============================] - 3s 15ms/step - loss: 0.0649 - accuracy: 0.9782 - val_loss: 0.6324 - val_accuracy: 0.8660\n",
            "Epoch 173/200\n",
            "219/219 [==============================] - 3s 15ms/step - loss: 0.0558 - accuracy: 0.9788 - val_loss: 0.7942 - val_accuracy: 0.8454\n",
            "Epoch 174/200\n",
            "219/219 [==============================] - 3s 14ms/step - loss: 0.0785 - accuracy: 0.9752 - val_loss: 0.6198 - val_accuracy: 0.8683\n",
            "Epoch 175/200\n",
            "219/219 [==============================] - 3s 15ms/step - loss: 0.0669 - accuracy: 0.9781 - val_loss: 0.7129 - val_accuracy: 0.8385\n",
            "Epoch 176/200\n",
            "219/219 [==============================] - 3s 15ms/step - loss: 0.0477 - accuracy: 0.9834 - val_loss: 0.7193 - val_accuracy: 0.8477\n",
            "Epoch 177/200\n",
            "219/219 [==============================] - 3s 14ms/step - loss: 0.0480 - accuracy: 0.9847 - val_loss: 0.8122 - val_accuracy: 0.8328\n",
            "Epoch 178/200\n",
            "219/219 [==============================] - 3s 15ms/step - loss: 0.0571 - accuracy: 0.9790 - val_loss: 0.7179 - val_accuracy: 0.8488\n",
            "Epoch 179/200\n",
            "219/219 [==============================] - 3s 15ms/step - loss: 0.0763 - accuracy: 0.9754 - val_loss: 1.3899 - val_accuracy: 0.7468\n",
            "Epoch 180/200\n",
            "219/219 [==============================] - 3s 15ms/step - loss: 0.0572 - accuracy: 0.9798 - val_loss: 0.7733 - val_accuracy: 0.8545\n",
            "Epoch 181/200\n",
            "219/219 [==============================] - 3s 15ms/step - loss: 0.0461 - accuracy: 0.9834 - val_loss: 0.7184 - val_accuracy: 0.8465\n",
            "Epoch 182/200\n",
            "219/219 [==============================] - 3s 14ms/step - loss: 0.0705 - accuracy: 0.9785 - val_loss: 0.6938 - val_accuracy: 0.8580\n",
            "Epoch 183/200\n",
            "219/219 [==============================] - 3s 15ms/step - loss: 0.0498 - accuracy: 0.9831 - val_loss: 0.8586 - val_accuracy: 0.8236\n",
            "Epoch 184/200\n",
            "219/219 [==============================] - 3s 14ms/step - loss: 0.0596 - accuracy: 0.9807 - val_loss: 0.6990 - val_accuracy: 0.8488\n",
            "Epoch 185/200\n",
            "219/219 [==============================] - 3s 14ms/step - loss: 0.0678 - accuracy: 0.9771 - val_loss: 0.6711 - val_accuracy: 0.8591\n",
            "Epoch 186/200\n",
            "219/219 [==============================] - 3s 14ms/step - loss: 0.0634 - accuracy: 0.9781 - val_loss: 0.8851 - val_accuracy: 0.8190\n",
            "Epoch 187/200\n",
            "219/219 [==============================] - 3s 14ms/step - loss: 0.0514 - accuracy: 0.9827 - val_loss: 0.9941 - val_accuracy: 0.8156\n",
            "Epoch 188/200\n",
            "219/219 [==============================] - 3s 14ms/step - loss: 0.0517 - accuracy: 0.9818 - val_loss: 0.6827 - val_accuracy: 0.8568\n",
            "Epoch 189/200\n",
            "219/219 [==============================] - 3s 15ms/step - loss: 0.0544 - accuracy: 0.9815 - val_loss: 0.9352 - val_accuracy: 0.8236\n",
            "Epoch 190/200\n",
            "219/219 [==============================] - 3s 15ms/step - loss: 0.0560 - accuracy: 0.9817 - val_loss: 0.9821 - val_accuracy: 0.8293\n",
            "Epoch 191/200\n",
            "219/219 [==============================] - 3s 15ms/step - loss: 0.0579 - accuracy: 0.9808 - val_loss: 1.0321 - val_accuracy: 0.7995\n",
            "Epoch 192/200\n",
            "219/219 [==============================] - 3s 14ms/step - loss: 0.0554 - accuracy: 0.9813 - val_loss: 0.7634 - val_accuracy: 0.8419\n",
            "Epoch 193/200\n",
            "219/219 [==============================] - 3s 15ms/step - loss: 0.0519 - accuracy: 0.9811 - val_loss: 0.6369 - val_accuracy: 0.8786\n",
            "Epoch 194/200\n",
            "219/219 [==============================] - 3s 15ms/step - loss: 0.0493 - accuracy: 0.9828 - val_loss: 0.9133 - val_accuracy: 0.8225\n",
            "Epoch 195/200\n",
            "219/219 [==============================] - 3s 14ms/step - loss: 0.0511 - accuracy: 0.9828 - val_loss: 0.8454 - val_accuracy: 0.8488\n",
            "Epoch 196/200\n",
            "219/219 [==============================] - 3s 14ms/step - loss: 0.0577 - accuracy: 0.9802 - val_loss: 1.0309 - val_accuracy: 0.8133\n",
            "Epoch 197/200\n",
            "219/219 [==============================] - 3s 14ms/step - loss: 0.0699 - accuracy: 0.9781 - val_loss: 0.6312 - val_accuracy: 0.8637\n",
            "Epoch 198/200\n",
            "219/219 [==============================] - 3s 15ms/step - loss: 0.0470 - accuracy: 0.9841 - val_loss: 0.6607 - val_accuracy: 0.8729\n",
            "Epoch 199/200\n",
            "219/219 [==============================] - 3s 14ms/step - loss: 0.0483 - accuracy: 0.9824 - val_loss: 0.6395 - val_accuracy: 0.8625\n",
            "Epoch 200/200\n",
            "219/219 [==============================] - 3s 14ms/step - loss: 0.0513 - accuracy: 0.9825 - val_loss: 0.8665 - val_accuracy: 0.8385\n"
          ]
        }
      ],
      "source": [
        "# TRAINING THE MODEL\n",
        "history=model.fit(X_train , y_train,epochs=200,validation_data = (X_val , y_val))"
      ]
    },
    {
      "cell_type": "code",
      "execution_count": null,
      "metadata": {
        "id": "6hjjHd_m5Isl",
        "colab": {
          "base_uri": "https://localhost:8080/",
          "height": 279
        },
        "outputId": "3acd5387-ed99-40a7-b505-e413097e2bdc"
      },
      "outputs": [
        {
          "output_type": "display_data",
          "data": {
            "text/plain": [
              "<Figure size 432x288 with 1 Axes>"
            ],
            "image/png": "[encoded data removed]"
          },
          "metadata": {
            "needs_background": "light"
          }
        }
      ],
      "source": [
        "import matplotlib.pyplot as plt\n",
        "# Plot the the training loss\n",
        "plt.plot(history.history[\"loss\"],label = \"loss\")\n",
        "\n",
        "# Plot the the validation loss\n",
        "plt.plot(history.history[\"val_loss\"],label = \"val_loss\")\n",
        "\n",
        "# Name the x and y axises\n",
        "plt.xlabel(\"Epoch\")\n",
        "plt.ylabel(\"Loss\")\n",
        "\n",
        "# Put legend table\n",
        "plt.legend()\n",
        "\n",
        "# Show the plot\n",
        "plt.show()"
      ]
    },
    {
      "cell_type": "code",
      "source": [
        "# Plot the the training accuracy\n",
        "plt.plot(history.history[\"accuracy\"] , label=\"accuracy\")\n",
        "\n",
        "# Plot the the validation accuracy\n",
        "plt.plot(history.history[\"val_accuracy\"] , label = \"val_accuracy\")\n",
        "\n",
        "# Name the x and y axises\n",
        "plt.xlabel(\"Epoch\")\n",
        "plt.ylabel(\"Accuracy\")\n",
        "# Put legend table\n",
        "plt.legend()\n",
        "\n",
        "# Show the plot\n",
        "plt.show()"
      ],
      "metadata": {
        "colab": {
          "base_uri": "https://localhost:8080/",
          "height": 279
        },
        "id": "sDmdOQqGbO-1",
        "outputId": "92cb20aa-4116-4e47-a6c4-cb1b3f7a3b97"
      },
      "execution_count": null,
      "outputs": [
        {
          "output_type": "display_data",
          "data": {
            "text/plain": [
              "<Figure size 432x288 with 1 Axes>"
            ],
            "image/png": "[encoded data removed]"
          },
          "metadata": {
            "needs_background": "light"
          }
        }
      ]
    },
    {
      "cell_type": "markdown",
      "source": [
        "Performance evaluation"
      ],
      "metadata": {
        "id": "1Efn4l93bUVm"
      }
    },
    {
      "cell_type": "code",
      "execution_count": null,
      "metadata": {
        "id": "SX6ahbDG5sdE",
        "colab": {
          "base_uri": "https://localhost:8080/"
        },
        "outputId": "3be618c9-41ee-4246-c21c-ec83b22d3181"
      },
      "outputs": [
        {
          "output_type": "stream",
          "name": "stdout",
          "text": [
            "28/28 [==============================] - 0s 11ms/step - loss: 0.8540 - accuracy: 0.8547\n"
          ]
        },
        {
          "output_type": "execute_result",
          "data": {
            "text/plain": [
              "[0.854022741317749, 0.8546910881996155]"
            ]
          },
          "metadata": {},
          "execution_count": 12
        }
      ],
      "source": [
        "# Evaluate the performance\n",
        "model.evaluate(X_test , y_test)"
      ]
    },
    {
      "cell_type": "markdown",
      "source": [
        "Try a prediction"
      ],
      "metadata": {
        "id": "uRNz4hYgbZjz"
      }
    },
    {
      "cell_type": "code",
      "source": [
        "import tensorflow as tf\n",
        "# Use the .imshow() function and show the plot\n",
        "plt.imshow(( tf.squeeze(X_test[873]) ))\n",
        "\n",
        "plt.show()\n",
        "# Print the shape of the sample image\n",
        "print(X_test[873].shape)"
      ],
      "metadata": {
        "colab": {
          "base_uri": "https://localhost:8080/",
          "height": 285
        },
        "id": "QFtmhsCkux_i",
        "outputId": "943536ee-cce5-46e8-e24a-2e33034f3beb"
      },
      "execution_count": null,
      "outputs": [
        {
          "output_type": "display_data",
          "data": {
            "text/plain": [
              "<Figure size 432x288 with 1 Axes>"
            ],
            "image/png": "[encoded data removed]"
          },
          "metadata": {
            "needs_background": "light"
          }
        },
        {
          "output_type": "stream",
          "name": "stdout",
          "text": [
            "(100, 100, 1)\n"
          ]
        }
      ]
    },
    {
      "cell_type": "code",
      "source": [
        "# Make prediction on the reshaped sample\n",
        "prediction_result = model.predict(X_test[873].reshape(1,32,32,1))\n",
        "\n",
        "# Print the prediction result\n",
        "prediction_result"
      ],
      "metadata": {
        "colab": {
          "base_uri": "https://localhost:8080/"
        },
        "id": "v9GrL3SCbZSl",
        "outputId": "d9a8bf82-d35e-468a-e209-2db97c8c79c2"
      },
      "execution_count": null,
      "outputs": [
        {
          "output_type": "execute_result",
          "data": {
            "text/plain": [
              "array([[1.2289767e-09, 5.6375176e-09, 6.1179437e-11, 8.7086516e-10,\n",
              "        9.9999630e-01, 2.8002715e-08, 2.2431135e-12, 3.6889387e-06,\n",
              "        1.6890905e-09, 1.9815072e-10]], dtype=float32)"
            ]
          },
          "metadata": {},
          "execution_count": 32
        }
      ]
    },
    {
      "cell_type": "code",
      "source": [
        "# Find the predicted class\n",
        "predicted_class = prediction_result.argmax()\n",
        "# Find the prediction probability\n",
        "predicted_probability = prediction_result.max()"
      ],
      "metadata": {
        "id": "hM0pDvGObfVR"
      },
      "execution_count": null,
      "outputs": []
    },
    {
      "cell_type": "code",
      "source": [
        "# Print the results\n",
        "print(f\"This image blong to class {predicted_class} with {predicted_probability} probability %\")"
      ],
      "metadata": {
        "colab": {
          "base_uri": "https://localhost:8080/"
        },
        "id": "HgGmwMUCbhQ5",
        "outputId": "103191f8-87e4-40d8-92f7-3a7fc1984a8c"
      },
      "execution_count": null,
      "outputs": [
        {
          "output_type": "stream",
          "name": "stdout",
          "text": [
            "This image blong to class 4 with 0.9999963045120239 probability %\n"
          ]
        }
      ]
    }
  ],
  "metadata": {
    "accelerator": "GPU",
    "colab": {
      "provenance": []
    },
    "kernelspec": {
      "display_name": "Python 3",
      "name": "python3"
    },
    "language_info": {
      "name": "python"
    }
  },
  "nbformat": 4,
  "nbformat_minor": 0
}